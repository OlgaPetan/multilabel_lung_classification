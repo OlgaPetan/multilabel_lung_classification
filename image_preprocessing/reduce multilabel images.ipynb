{
 "cells": [
  {
   "cell_type": "code",
   "execution_count": 8,
   "id": "cfc1f84a",
   "metadata": {},
   "outputs": [],
   "source": [
    "import os\n",
    "import pandas as pd\n",
    "import shutil"
   ]
  },
  {
   "cell_type": "code",
   "execution_count": 9,
   "id": "5893ca5d",
   "metadata": {},
   "outputs": [],
   "source": [
    "df = pd.read_csv('reduced_metadata.csv', encoding='utf-8' )"
   ]
  },
  {
   "cell_type": "code",
   "execution_count": 10,
   "id": "ae480bdd",
   "metadata": {},
   "outputs": [],
   "source": [
    "# Path to the image folder\n",
    "image_folder = 'images'\n",
    "\n",
    "# List all files in the image folder\n",
    "all_files = os.listdir(image_folder)\n",
    "\n",
    "# Filter files based on the \"imageindex\" column in the DataFrame\n",
    "files_to_keep = df['imageindex'].isin(all_files)"
   ]
  },
  {
   "cell_type": "code",
   "execution_count": 11,
   "id": "de496334",
   "metadata": {},
   "outputs": [],
   "source": [
    "# Create a new DataFrame with only the rows where the filenames match\n",
    "df_filtered = df[files_to_keep]\n",
    "\n",
    "# Iterate through the files to move or copy them to a new folder (e.g., \"filtered_images\")\n",
    "filtered_folder = 'filtered_images'\n",
    "\n",
    "# Create the filtered folder if it doesn't exist\n",
    "os.makedirs(filtered_folder, exist_ok=True)"
   ]
  },
  {
   "cell_type": "code",
   "execution_count": 12,
   "id": "b70bc15a",
   "metadata": {},
   "outputs": [
    {
     "name": "stdout",
     "output_type": "stream",
     "text": [
      "Filtered images are stored in the folder: filtered_images\n"
     ]
    }
   ],
   "source": [
    "# Move or copy the selected files to the new folder\n",
    "for filename in df_filtered['imageindex']:\n",
    "    source_path = os.path.join(image_folder, filename)\n",
    "    destination_path = os.path.join(filtered_folder, filename)\n",
    "\n",
    "    # You can choose to move or copy the files based on your preference\n",
    "    shutil.copy(source_path, destination_path)\n",
    "    # or shutil.move(source_path, destination_path)\n",
    "\n",
    "print(f\"Filtered images are stored in the folder: {filtered_folder}\")"
   ]
  },
  {
   "cell_type": "code",
   "execution_count": null,
   "id": "3a4bb391",
   "metadata": {},
   "outputs": [],
   "source": []
  }
 ],
 "metadata": {
  "kernelspec": {
   "display_name": "Python 3 (ipykernel)",
   "language": "python",
   "name": "python3"
  },
  "language_info": {
   "codemirror_mode": {
    "name": "ipython",
    "version": 3
   },
   "file_extension": ".py",
   "mimetype": "text/x-python",
   "name": "python",
   "nbconvert_exporter": "python",
   "pygments_lexer": "ipython3",
   "version": "3.9.7"
  }
 },
 "nbformat": 4,
 "nbformat_minor": 5
}
